{
	"cells": [
		{
			"cell_type": "markdown",
			"metadata": {
				"editable": true,
				"trusted": true
			},
			"source": [
				"# AWS Glue Studio Notebook\n",
				"##### You are now running a AWS Glue Studio notebook; To start using your notebook you need to start an AWS Glue Interactive Session.\n"
			]
		},
		{
			"cell_type": "markdown",
			"metadata": {
				"editable": true,
				"trusted": true
			},
			"source": [
				"#### Optional: Run this cell to see available notebook commands (\"magics\").\n"
			]
		},
		{
			"cell_type": "code",
			"execution_count": null,
			"metadata": {
				"editable": true,
				"trusted": true,
				"vscode": {
					"languageId": "python_glue_session"
				}
			},
			"outputs": [],
			"source": [
				"%help"
			]
		},
		{
			"cell_type": "markdown",
			"metadata": {
				"editable": true,
				"trusted": true
			},
			"source": [
				"####  Run this cell to set up and start your interactive session.\n"
			]
		},
		{
			"cell_type": "code",
			"execution_count": 18,
			"metadata": {
				"editable": true,
				"trusted": true,
				"vscode": {
					"languageId": "python_glue_session"
				}
			},
			"outputs": [
				{
					"name": "stderr",
					"output_type": "stream",
					"text": [
						"You are already connected to a glueetl session f169373d-4773-49d1-a7f7-cd2823608052.\n",
						"\n",
						"No change will be made to the current session that is set as glueetl. The session configuration change will apply to newly created sessions.\n"
					]
				},
				{
					"name": "stdout",
					"output_type": "stream",
					"text": [
						"Current idle_timeout is 2880 minutes.\n",
						"idle_timeout has been set to 2880 minutes.\n"
					]
				},
				{
					"name": "stderr",
					"output_type": "stream",
					"text": [
						"You are already connected to a glueetl session f169373d-4773-49d1-a7f7-cd2823608052.\n",
						"\n",
						"No change will be made to the current session that is set as glueetl. The session configuration change will apply to newly created sessions.\n"
					]
				},
				{
					"name": "stdout",
					"output_type": "stream",
					"text": [
						"Setting Glue version to: 5.0\n"
					]
				},
				{
					"name": "stderr",
					"output_type": "stream",
					"text": [
						"You are already connected to a glueetl session f169373d-4773-49d1-a7f7-cd2823608052.\n",
						"\n",
						"No change will be made to the current session that is set as glueetl. The session configuration change will apply to newly created sessions.\n"
					]
				},
				{
					"name": "stdout",
					"output_type": "stream",
					"text": [
						"Previous worker type: G.1X\n",
						"Setting new worker type to: G.1X\n"
					]
				},
				{
					"name": "stderr",
					"output_type": "stream",
					"text": [
						"You are already connected to a glueetl session f169373d-4773-49d1-a7f7-cd2823608052.\n",
						"\n",
						"No change will be made to the current session that is set as glueetl. The session configuration change will apply to newly created sessions.\n"
					]
				},
				{
					"name": "stdout",
					"output_type": "stream",
					"text": [
						"Previous number of workers: 5\n",
						"Setting new number of workers to: 5\n",
						"\n"
					]
				}
			],
			"source": [
				"%idle_timeout 2880\n",
				"%glue_version 5.0\n",
				"%worker_type G.1X\n",
				"%number_of_workers 5\n",
				"import sys\n",
				"from awsglue.transforms import *\n",
				"from awsglue.utils import getResolvedOptions\n",
				"from pyspark.context import SparkContext\n",
				"from awsglue.context import GlueContext\n",
				"from awsglue.job import Job\n",
				"  \n",
				"sc = SparkContext.getOrCreate()\n",
				"glueContext = GlueContext(sc)\n",
				"spark = glueContext.spark_session\n",
				"job = Job(glueContext)"
			]
		},
		{
			"cell_type": "code",
			"execution_count": null,
			"metadata": {
				"tags": [],
				"trusted": true,
				"vscode": {
					"languageId": "python_glue_session"
				}
			},
			"outputs": [
				{
					"name": "stdout",
					"output_type": "stream",
					"text": [
						"📂 Cargando y transformando productos...\n",
						"📂 Cargando y transformando compras...\n",
						"🧮 Calculando relaciones productos-compras...\n",
						"🧮 Calculando totales por compra...\n",
						"💾 Guardando resultados...\n",
						"<awsglue.dynamicframe.DynamicFrame object at 0x7f0dd6d9add0>\n",
						"<awsglue.dynamicframe.DynamicFrame object at 0x7f0dd6d99150>\n",
						"<awsglue.dynamicframe.DynamicFrame object at 0x7f0dd6d9b210>\n",
						"<awsglue.dynamicframe.DynamicFrame object at 0x7f0dd6d9bbd0>\n",
						"✅ Proceso completado exitosamente!\n"
					]
				}
			],
			"source": [
				"from pyspark.sql.functions import col, explode, to_date, sum, when, lit, count, first, regexp_replace\n",
				"from awsglue.dynamicframe import DynamicFrame\n",
				"from awsglue.context import GlueContext\n",
				"\n",
				"# Configuración inicial\n",
				"spark.conf.set(\"spark.sql.legacy.timeParserPolicy\", \"LEGACY\")\n",
				"glueContext = GlueContext(spark.sparkContext)\n",
				"\n",
				"# Configuración de rutas\n",
				"BUCKET_NAME = \"s3://ecommerce-data-raw-dataengineer\"\n",
				"INPUT_PRODUCTS = f\"{BUCKET_NAME}/products/products.json\"\n",
				"INPUT_PURCHASES = f\"{BUCKET_NAME}/purchases/purchases.json\"\n",
				"OUTPUT_PRODUCTS = f\"{BUCKET_NAME}/processed-products/\"\n",
				"OUTPUT_PURCHASES = f\"{BUCKET_NAME}/processed-purchases/\"\n",
				"OUTPUT_RELATIONS = f\"{BUCKET_NAME}/purchase-relations/\"\n",
				"OUTPUT_TOTALS = f\"{BUCKET_NAME}/purchase-totals/\"\n",
				"\n",
				"# 1. Carga y transformación de productos\n",
				"products = glueContext.create_dynamic_frame.from_options(\n",
				"    connection_type=\"s3\",\n",
				"    connection_options={\"paths\": [INPUT_PRODUCTS]},\n",
				"    format=\"json\",\n",
				"    format_options={\"multiline\": True}\n",
				")\n",
				"\n",
				"df_products = products.toDF()\n",
				"products_clean = df_products.select(\n",
				"    explode(\"data\").alias(\"product\")\n",
				").select(\n",
				"    col(\"product.id\").cast(\"int\").alias(\"product_id\"),\n",
				"    col(\"product.name\").alias(\"product_name\"),\n",
				"    col(\"product.description\").alias(\"description\"),\n",
				"    when(col(\"product.price.double\").isNull(), 0.0)\n",
				"      .otherwise(col(\"product.price.double\").cast(\"float\")).alias(\"price\"),\n",
				"    col(\"product.category\").alias(\"category\"),\n",
				"    to_date(\n",
				"        regexp_replace(\n",
				"            col(\"product.createdAt\"), \n",
				"            r\"^(\\d{1})/(\\d{1})/\", \n",
				"            \"0$1/0$2/\"\n",
				"        ),\n",
				"        \"MM/dd/yyyy\"\n",
				"    ).alias(\"created_at\")\n",
				")\n",
				"\n",
				"# 2. Carga y transformación de compras\n",
				"purchases = glueContext.create_dynamic_frame.from_options(\n",
				"    connection_type=\"s3\",\n",
				"    connection_options={\"paths\": [INPUT_PURCHASES]},\n",
				"    format=\"json\",\n",
				"    format_options={\"multiline\": True}\n",
				")\n",
				"\n",
				"df_purchases = purchases.toDF()\n",
				"purchases_clean = df_purchases.select(\n",
				"    explode(\"data\").alias(\"purchase\")\n",
				").select(\n",
				"    col(\"purchase.id\").alias(\"purchase_id\"),\n",
				"    col(\"purchase.status\").alias(\"status\"),\n",
				"    col(\"purchase.creditCardType\").alias(\"credit_card_type\"),\n",
				"    to_date(\n",
				"        regexp_replace(\n",
				"            col(\"purchase.purchaseDate\"), \n",
				"            r\"^(\\d{1})/(\\d{1})/\", \n",
				"            \"0$1/0$2/\"\n",
				"        ),\n",
				"        \"MM/dd/yyyy\"\n",
				"    ).alias(\"purchase_date\")\n",
				")\n",
				"\n",
				"# 3. Creación de purchase_products\n",
				"purchase_products = df_purchases.select(\n",
				"    explode(\"data\").alias(\"purchase\")\n",
				").select(\n",
				"    col(\"purchase.id\").alias(\"purchase_id\"),\n",
				"    explode(col(\"purchase.products\")).alias(\"product\")\n",
				").groupBy(\n",
				"    \"purchase_id\", \"product.id\"\n",
				").agg(\n",
				"    count(\"*\").alias(\"quantity\"),\n",
				"    first(\"product.discount\").alias(\"discount\")\n",
				").select(\n",
				"    col(\"purchase_id\"),\n",
				"    col(\"id\").alias(\"product_id\"),\n",
				"    col(\"quantity\"),\n",
				"    col(\"discount\")\n",
				")\n",
				"\n",
				"# 4. Cálculo de totales por compra - VERSIÓN CORREGIDA\n",
				"purchase_totals = purchase_products.join(\n",
				"    products_clean, \n",
				"    purchase_products.product_id == products_clean.product_id\n",
				").join(\n",
				"    purchases_clean,\n",
				"    purchase_products.purchase_id == purchases_clean.purchase_id\n",
				").withColumn(\n",
				"    \"subtotal\", \n",
				"    col(\"price\") * col(\"quantity\") * (1 - col(\"discount\")/100)\n",
				").groupBy(\n",
				"    purchase_products[\"purchase_id\"], purchases_clean[\"purchase_date\"]\n",
				").agg(\n",
				"    sum(\"subtotal\").alias(\"total_amount\")\n",
				")\n",
				"\n",
				"# 5. Escritura de resultados\n",
				"print(\"💾 Guardando resultados...\")\n",
				"write_config = {\n",
				"    \"format\": \"parquet\",\n",
				"    \"format_options\": {\"compression\": \"snappy\"}\n",
				"}\n",
				"\n",
				"try:\n",
				"    glueContext.write_dynamic_frame.from_options(\n",
				"        frame=DynamicFrame.fromDF(products_clean, glueContext, \"products\"),\n",
				"        connection_type=\"s3\",\n",
				"        connection_options={\n",
				"            \"path\": OUTPUT_PRODUCTS,\n",
				"            \"partitionKeys\": [\"created_at\"]\n",
				"        },\n",
				"        **write_config\n",
				"    )\n",
				"\n",
				"    glueContext.write_dynamic_frame.from_options(\n",
				"        frame=DynamicFrame.fromDF(purchases_clean, glueContext, \"purchases\"),\n",
				"        connection_type=\"s3\",\n",
				"        connection_options={\n",
				"            \"path\": OUTPUT_PURCHASES,\n",
				"            \"partitionKeys\": [\"purchase_date\"]\n",
				"        },\n",
				"        **write_config\n",
				"    )\n",
				"\n",
				"    glueContext.write_dynamic_frame.from_options(\n",
				"        frame=DynamicFrame.fromDF(purchase_products, glueContext, \"purchase_products\"),\n",
				"        connection_type=\"s3\",\n",
				"        connection_options={\"path\": OUTPUT_RELATIONS},\n",
				"        **write_config\n",
				"    )\n",
				"\n",
				"    glueContext.write_dynamic_frame.from_options(\n",
				"        frame=DynamicFrame.fromDF(purchase_totals, glueContext, \"purchase_totals\"),\n",
				"        connection_type=\"s3\",\n",
				"        connection_options={\n",
				"            \"path\": OUTPUT_TOTALS,\n",
				"            \"partitionKeys\": [\"purchase_date\"]\n",
				"        },\n",
				"        **write_config\n",
				"    )\n",
				"\n",
				"    print(\" Proceso completado exitosamente!\")\n",
				"\n",
				"except Exception as e:\n",
				"    print(f\" Error al guardar resultados: {str(e)}\")\n",
				"    raise e"
			]
		},
		{
			"cell_type": "code",
			"execution_count": 29,
			"metadata": {
				"tags": [],
				"trusted": true,
				"vscode": {
					"languageId": "python_glue_session"
				}
			},
			"outputs": [
				{
					"name": "stdout",
					"output_type": "stream",
					"text": [
						"Hola mundo\n"
					]
				}
			],
			"source": [
				"print(\"Hola mundo\")"
			]
		},
		{
			"cell_type": "code",
			"execution_count": null,
			"metadata": {
				"vscode": {
					"languageId": "python_glue_session"
				}
			},
			"outputs": [],
			"source": []
		}
	],
	"metadata": {
		"kernelspec": {
			"display_name": "Glue PySpark",
			"language": "python",
			"name": "glue_pyspark"
		},
		"language_info": {
			"codemirror_mode": {
				"name": "python",
				"version": 3
			},
			"file_extension": ".py",
			"mimetype": "text/x-python",
			"name": "Python_Glue_Session",
			"pygments_lexer": "python3"
		}
	},
	"nbformat": 4,
	"nbformat_minor": 4
}
