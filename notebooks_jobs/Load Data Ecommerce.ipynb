{
	"cells": [
		{
			"cell_type": "markdown",
			"metadata": {
				"editable": true,
				"trusted": true
			},
			"source": [
				"# AWS Glue Studio Notebook\n",
				"##### You are now running a AWS Glue Studio notebook; To start using your notebook you need to start an AWS Glue Interactive Session.\n"
			]
		},
		{
			"cell_type": "markdown",
			"metadata": {
				"editable": true,
				"trusted": true
			},
			"source": [
				"#### Optional: Run this cell to see available notebook commands (\"magics\").\n"
			]
		},
		{
			"cell_type": "code",
			"execution_count": null,
			"metadata": {
				"editable": true,
				"trusted": true,
				"vscode": {
					"languageId": "python_glue_session"
				}
			},
			"outputs": [],
			"source": [
				"%help"
			]
		},
		{
			"cell_type": "markdown",
			"metadata": {
				"editable": true,
				"trusted": true
			},
			"source": [
				"####  Run this cell to set up and start your interactive session.\n"
			]
		},
		{
			"cell_type": "code",
			"execution_count": 1,
			"metadata": {
				"editable": true,
				"trusted": true,
				"vscode": {
					"languageId": "python_glue_session"
				}
			},
			"outputs": [
				{
					"name": "stdout",
					"output_type": "stream",
					"text": [
						"Welcome to the Glue Interactive Sessions Kernel\n",
						"For more information on available magic commands, please type %help in any new cell.\n",
						"\n",
						"Please view our Getting Started page to access the most up-to-date information on the Interactive Sessions kernel: https://docs.aws.amazon.com/glue/latest/dg/interactive-sessions.html\n",
						"Installed kernel version: 1.0.8 \n",
						"Current idle_timeout is None minutes.\n",
						"idle_timeout has been set to 2880 minutes.\n",
						"Setting Glue version to: 5.0\n",
						"Previous worker type: None\n",
						"Setting new worker type to: G.1X\n",
						"Previous number of workers: None\n",
						"Setting new number of workers to: 5\n",
						"Trying to create a Glue session for the kernel.\n",
						"Session Type: glueetl\n",
						"Worker Type: G.1X\n",
						"Number of Workers: 5\n",
						"Idle Timeout: 2880\n",
						"Session ID: 14971ea3-7331-41c0-9dbf-6faf5c3359a8\n",
						"Applying the following default arguments:\n",
						"--glue_kernel_version 1.0.8\n",
						"--enable-glue-datacatalog true\n",
						"Waiting for session 14971ea3-7331-41c0-9dbf-6faf5c3359a8 to get into ready status...\n",
						"Session 14971ea3-7331-41c0-9dbf-6faf5c3359a8 has been created.\n",
						"\n"
					]
				}
			],
			"source": [
				"%idle_timeout 2880\n",
				"%glue_version 5.0\n",
				"%worker_type G.1X\n",
				"%number_of_workers 5\n",
				"\n",
				"import sys\n",
				"from awsglue.transforms import *\n",
				"from awsglue.utils import getResolvedOptions\n",
				"from pyspark.context import SparkContext\n",
				"from awsglue.context import GlueContext\n",
				"from awsglue.job import Job\n",
				"  \n",
				"sc = SparkContext.getOrCreate()\n",
				"glueContext = GlueContext(sc)\n",
				"spark = glueContext.spark_session\n",
				"job = Job(glueContext)"
			]
		},
		{
			"cell_type": "code",
			"execution_count": null,
			"metadata": {
				"tags": [],
				"trusted": true,
				"vscode": {
					"languageId": "python_glue_session"
				}
			},
			"outputs": [
				{
					"name": "stdout",
					"output_type": "stream",
					"text": [
						"Carga completada exitosamente\n"
					]
				}
			],
			"source": [
				"# 1. Cargar datos desde el catálogo\n",
				"products = glueContext.create_dynamic_frame.from_catalog(\n",
				"    database=\"ecommerce_central_db\",\n",
				"    table_name=\"processed_products\"\n",
				")\n",
				"purchases = glueContext.create_dynamic_frame.from_catalog(\n",
				"    database=\"ecommerce_central_db\",\n",
				"    table_name=\"processed_purchases\"\n",
				")\n",
				"\n",
				"purchase_relations = glueContext.create_dynamic_frame.from_catalog(\n",
				"    database=\"ecommerce_central_db\",\n",
				"    table_name=\"purchase_relations\"  # Nombre consistente (sin guión)\n",
				")\n",
				"\n",
				"# 2. Configuración común para Redshift\n",
				"redshift_config = {\n",
				"    \"catalog_connection\": \"Redshift connection\",\n",
				"    \"redshift_tmp_dir\": \"s3://ecommerce-data-raw-dataengineer/temp/\"\n",
				"}\n",
				"\n",
				"try:\n",
				"    # 3. Cargar en orden lógico (primero dimensiones)\n",
				"    # 3.1 Tabla de productos\n",
				"    glueContext.write_dynamic_frame.from_jdbc_conf(\n",
				"        frame=products,\n",
				"        connection_options={\n",
				"            \"dbtable\": \"processed_products\",\n",
				"            \"database\": \"ecommerce\"\n",
				"        },\n",
				"        **redshift_config\n",
				"    )\n",
				"    \n",
				"    # 3.2 Tabla de compras\n",
				"    glueContext.write_dynamic_frame.from_jdbc_conf(\n",
				"        frame=purchases,\n",
				"        connection_options={\n",
				"            \"dbtable\": \"processed_purchases\",\n",
				"            \"database\": \"ecommerce\"\n",
				"        },\n",
				"        **redshift_config\n",
				"    )\n",
				"    \n",
				"    # 3.3 Tabla de relaciones (debe cargarse después)\n",
				"    glueContext.write_dynamic_frame.from_jdbc_conf(\n",
				"        frame=purchase_relations,  \n",
				"        connection_options={\n",
				"            \"dbtable\": \"purchase_relations\",\n",
				"            \"database\": \"ecommerce\"\n",
				"        },\n",
				"        **redshift_config\n",
				"    )\n",
				"    \n",
				"    print(\"Carga completada exitosamente\")\n",
				"    \n",
				"except Exception as e:\n",
				"    print(f\"Error durante la carga: {str(e)}\")\n",
				"    raise"
			]
		},
		{
			"cell_type": "code",
			"execution_count": null,
			"metadata": {
				"vscode": {
					"languageId": "python_glue_session"
				}
			},
			"outputs": [],
			"source": []
		}
	],
	"metadata": {
		"kernelspec": {
			"display_name": "Glue PySpark",
			"language": "python",
			"name": "glue_pyspark"
		},
		"language_info": {
			"codemirror_mode": {
				"name": "python",
				"version": 3
			},
			"file_extension": ".py",
			"mimetype": "text/x-python",
			"name": "Python_Glue_Session",
			"pygments_lexer": "python3"
		}
	},
	"nbformat": 4,
	"nbformat_minor": 4
}
